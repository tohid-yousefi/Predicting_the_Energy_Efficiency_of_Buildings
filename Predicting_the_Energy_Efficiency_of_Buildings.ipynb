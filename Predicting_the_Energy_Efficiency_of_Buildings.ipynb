{
  "nbformat": 4,
  "nbformat_minor": 0,
  "metadata": {
    "colab": {
      "provenance": []
    },
    "kernelspec": {
      "name": "python3",
      "display_name": "Python 3"
    },
    "language_info": {
      "name": "python"
    }
  },
  "cells": [
    {
      "cell_type": "markdown",
      "source": [
        "# Predicting the Energy Efficiency of Buildings\n",
        "\n",
        "📌 In this section, predicting the energy efficiency of buildings with machine learning algorithms."
      ],
      "metadata": {
        "id": "KoQxbXZR46oa"
      }
    },
    {
      "cell_type": "markdown",
      "source": [
        "# Business Problem\n",
        "\n",
        "📌 The dataset includes features such as surface/wall/roof area, glass area, glass area distribution and orientation of 768 simulated building shapes. Based on this data, it is aimed to estimate the heating and cooling load of the building. In this age where environmental awareness is very important, it can be a super consultancy initiative to reduce our carbon footprint, as we still haven't switched to renewable energy sources."
      ],
      "metadata": {
        "id": "-ebOW2gE5jy6"
      }
    },
    {
      "cell_type": "markdown",
      "source": [
        "# Dataset Story\n",
        "\n",
        "**Data Set Information:**\n",
        "\n",
        "📌 We perform energy analysis using 12 different building shapes simulated in Ecotect. The buildings differ with respect to the glazing area, the glazing area distribution, and the orientation, amongst other parameters. We simulate various settings as functions of the afore-mentioned characteristics to obtain 768 building shapes. The dataset comprises 768 samples and 8 features, aiming to predict two real valued responses. It can also be used as a multi-class classification problem if the response is rounded to the nearest integer.\n",
        "\n",
        "**Attribute Information:**\n",
        "\n",
        "📌 The dataset contains eight attributes (or features, denoted by X1…X8) and two responses (or outcomes, denoted by y1 and y2). The aim is to use the eight features to predict each of the two responses.\n",
        "\n",
        "X1 Relative Compactness\n",
        "\n",
        "X2 Surface Area\n",
        "\n",
        "X3 Wall Area\n",
        "\n",
        "X4 Roof Area\n",
        "\n",
        "X5 Overall Height\n",
        "\n",
        "X6 Orientation\n",
        "\n",
        "X7 Glazing Area\n",
        "\n",
        "X8 Glazing Area Distribution\n",
        "\n",
        "y1 Heating Load\n",
        "\n",
        "y2 Cooling Load"
      ],
      "metadata": {
        "id": "9ClgbcYa54-f"
      }
    },
    {
      "cell_type": "markdown",
      "source": [
        "# Import Necessary Libraries"
      ],
      "metadata": {
        "id": "CsxRDlAg6VWz"
      }
    },
    {
      "cell_type": "code",
      "execution_count": 174,
      "metadata": {
        "id": "Ba6b0RV44jXQ"
      },
      "outputs": [],
      "source": [
        "import numpy as np\n",
        "import pandas as pd\n",
        "import matplotlib.pyplot as plt\n",
        "import seaborn as sns\n",
        "\n",
        "pd.set_option('display.max_columns', None)\n",
        "pd.set_option('display.width', 500)\n",
        "pd.set_option('display.float_format', lambda x: '%.3f' % x)\n",
        "\n",
        "\n",
        "from sklearn.ensemble import RandomForestRegressor, VotingRegressor\n",
        "from sklearn.exceptions import ConvergenceWarning\n",
        "from sklearn.linear_model import LinearRegression, Ridge, RidgeCV, Lasso, ElasticNet\n",
        "from sklearn.neighbors import KNeighborsRegressor\n",
        "from sklearn.tree import DecisionTreeRegressor\n",
        "from xgboost import XGBRegressor\n",
        "from sklearn.preprocessing import LabelEncoder\n",
        "from sklearn.metrics import mean_squared_error\n",
        "from sklearn.linear_model import LinearRegression\n",
        "from sklearn.model_selection import train_test_split, cross_val_score, GridSearchCV, cross_validate\n",
        "\n",
        "import warnings\n",
        "warnings.simplefilter(action='ignore', category=FutureWarning)\n",
        "warnings.simplefilter(action=\"ignore\", category=ConvergenceWarning)"
      ]
    },
    {
      "cell_type": "markdown",
      "source": [
        "# Import Dataset"
      ],
      "metadata": {
        "id": "30ZYh4PK6Z6e"
      }
    },
    {
      "cell_type": "code",
      "source": [
        "df = pd.read_csv(\"/content/drive/MyDrive/Colab Notebooks/datasets/ENB2012_data.csv\")\n",
        "df.head()"
      ],
      "metadata": {
        "colab": {
          "base_uri": "https://localhost:8080/",
          "height": 206
        },
        "id": "87STPHoW6dMB",
        "outputId": "dc825865-b871-4025-b9ba-96a16b072bf3"
      },
      "execution_count": 2,
      "outputs": [
        {
          "output_type": "execute_result",
          "data": {
            "text/plain": [
              "     X1      X2      X3      X4    X5  X6    X7  X8     Y1     Y2\n",
              "0 0.980 514.500 294.000 110.250 7.000   2 0.000   0 15.550 21.330\n",
              "1 0.980 514.500 294.000 110.250 7.000   3 0.000   0 15.550 21.330\n",
              "2 0.980 514.500 294.000 110.250 7.000   4 0.000   0 15.550 21.330\n",
              "3 0.980 514.500 294.000 110.250 7.000   5 0.000   0 15.550 21.330\n",
              "4 0.900 563.500 318.500 122.500 7.000   2 0.000   0 20.840 28.280"
            ],
            "text/html": [
              "\n",
              "  <div id=\"df-e97afef0-605a-474b-ac78-921304f6d244\">\n",
              "    <div class=\"colab-df-container\">\n",
              "      <div>\n",
              "<style scoped>\n",
              "    .dataframe tbody tr th:only-of-type {\n",
              "        vertical-align: middle;\n",
              "    }\n",
              "\n",
              "    .dataframe tbody tr th {\n",
              "        vertical-align: top;\n",
              "    }\n",
              "\n",
              "    .dataframe thead th {\n",
              "        text-align: right;\n",
              "    }\n",
              "</style>\n",
              "<table border=\"1\" class=\"dataframe\">\n",
              "  <thead>\n",
              "    <tr style=\"text-align: right;\">\n",
              "      <th></th>\n",
              "      <th>X1</th>\n",
              "      <th>X2</th>\n",
              "      <th>X3</th>\n",
              "      <th>X4</th>\n",
              "      <th>X5</th>\n",
              "      <th>X6</th>\n",
              "      <th>X7</th>\n",
              "      <th>X8</th>\n",
              "      <th>Y1</th>\n",
              "      <th>Y2</th>\n",
              "    </tr>\n",
              "  </thead>\n",
              "  <tbody>\n",
              "    <tr>\n",
              "      <th>0</th>\n",
              "      <td>0.980</td>\n",
              "      <td>514.500</td>\n",
              "      <td>294.000</td>\n",
              "      <td>110.250</td>\n",
              "      <td>7.000</td>\n",
              "      <td>2</td>\n",
              "      <td>0.000</td>\n",
              "      <td>0</td>\n",
              "      <td>15.550</td>\n",
              "      <td>21.330</td>\n",
              "    </tr>\n",
              "    <tr>\n",
              "      <th>1</th>\n",
              "      <td>0.980</td>\n",
              "      <td>514.500</td>\n",
              "      <td>294.000</td>\n",
              "      <td>110.250</td>\n",
              "      <td>7.000</td>\n",
              "      <td>3</td>\n",
              "      <td>0.000</td>\n",
              "      <td>0</td>\n",
              "      <td>15.550</td>\n",
              "      <td>21.330</td>\n",
              "    </tr>\n",
              "    <tr>\n",
              "      <th>2</th>\n",
              "      <td>0.980</td>\n",
              "      <td>514.500</td>\n",
              "      <td>294.000</td>\n",
              "      <td>110.250</td>\n",
              "      <td>7.000</td>\n",
              "      <td>4</td>\n",
              "      <td>0.000</td>\n",
              "      <td>0</td>\n",
              "      <td>15.550</td>\n",
              "      <td>21.330</td>\n",
              "    </tr>\n",
              "    <tr>\n",
              "      <th>3</th>\n",
              "      <td>0.980</td>\n",
              "      <td>514.500</td>\n",
              "      <td>294.000</td>\n",
              "      <td>110.250</td>\n",
              "      <td>7.000</td>\n",
              "      <td>5</td>\n",
              "      <td>0.000</td>\n",
              "      <td>0</td>\n",
              "      <td>15.550</td>\n",
              "      <td>21.330</td>\n",
              "    </tr>\n",
              "    <tr>\n",
              "      <th>4</th>\n",
              "      <td>0.900</td>\n",
              "      <td>563.500</td>\n",
              "      <td>318.500</td>\n",
              "      <td>122.500</td>\n",
              "      <td>7.000</td>\n",
              "      <td>2</td>\n",
              "      <td>0.000</td>\n",
              "      <td>0</td>\n",
              "      <td>20.840</td>\n",
              "      <td>28.280</td>\n",
              "    </tr>\n",
              "  </tbody>\n",
              "</table>\n",
              "</div>\n",
              "      <button class=\"colab-df-convert\" onclick=\"convertToInteractive('df-e97afef0-605a-474b-ac78-921304f6d244')\"\n",
              "              title=\"Convert this dataframe to an interactive table.\"\n",
              "              style=\"display:none;\">\n",
              "        \n",
              "  <svg xmlns=\"http://www.w3.org/2000/svg\" height=\"24px\"viewBox=\"0 0 24 24\"\n",
              "       width=\"24px\">\n",
              "    <path d=\"M0 0h24v24H0V0z\" fill=\"none\"/>\n",
              "    <path d=\"M18.56 5.44l.94 2.06.94-2.06 2.06-.94-2.06-.94-.94-2.06-.94 2.06-2.06.94zm-11 1L8.5 8.5l.94-2.06 2.06-.94-2.06-.94L8.5 2.5l-.94 2.06-2.06.94zm10 10l.94 2.06.94-2.06 2.06-.94-2.06-.94-.94-2.06-.94 2.06-2.06.94z\"/><path d=\"M17.41 7.96l-1.37-1.37c-.4-.4-.92-.59-1.43-.59-.52 0-1.04.2-1.43.59L10.3 9.45l-7.72 7.72c-.78.78-.78 2.05 0 2.83L4 21.41c.39.39.9.59 1.41.59.51 0 1.02-.2 1.41-.59l7.78-7.78 2.81-2.81c.8-.78.8-2.07 0-2.86zM5.41 20L4 18.59l7.72-7.72 1.47 1.35L5.41 20z\"/>\n",
              "  </svg>\n",
              "      </button>\n",
              "      \n",
              "  <style>\n",
              "    .colab-df-container {\n",
              "      display:flex;\n",
              "      flex-wrap:wrap;\n",
              "      gap: 12px;\n",
              "    }\n",
              "\n",
              "    .colab-df-convert {\n",
              "      background-color: #E8F0FE;\n",
              "      border: none;\n",
              "      border-radius: 50%;\n",
              "      cursor: pointer;\n",
              "      display: none;\n",
              "      fill: #1967D2;\n",
              "      height: 32px;\n",
              "      padding: 0 0 0 0;\n",
              "      width: 32px;\n",
              "    }\n",
              "\n",
              "    .colab-df-convert:hover {\n",
              "      background-color: #E2EBFA;\n",
              "      box-shadow: 0px 1px 2px rgba(60, 64, 67, 0.3), 0px 1px 3px 1px rgba(60, 64, 67, 0.15);\n",
              "      fill: #174EA6;\n",
              "    }\n",
              "\n",
              "    [theme=dark] .colab-df-convert {\n",
              "      background-color: #3B4455;\n",
              "      fill: #D2E3FC;\n",
              "    }\n",
              "\n",
              "    [theme=dark] .colab-df-convert:hover {\n",
              "      background-color: #434B5C;\n",
              "      box-shadow: 0px 1px 3px 1px rgba(0, 0, 0, 0.15);\n",
              "      filter: drop-shadow(0px 1px 2px rgba(0, 0, 0, 0.3));\n",
              "      fill: #FFFFFF;\n",
              "    }\n",
              "  </style>\n",
              "\n",
              "      <script>\n",
              "        const buttonEl =\n",
              "          document.querySelector('#df-e97afef0-605a-474b-ac78-921304f6d244 button.colab-df-convert');\n",
              "        buttonEl.style.display =\n",
              "          google.colab.kernel.accessAllowed ? 'block' : 'none';\n",
              "\n",
              "        async function convertToInteractive(key) {\n",
              "          const element = document.querySelector('#df-e97afef0-605a-474b-ac78-921304f6d244');\n",
              "          const dataTable =\n",
              "            await google.colab.kernel.invokeFunction('convertToInteractive',\n",
              "                                                     [key], {});\n",
              "          if (!dataTable) return;\n",
              "\n",
              "          const docLinkHtml = 'Like what you see? Visit the ' +\n",
              "            '<a target=\"_blank\" href=https://colab.research.google.com/notebooks/data_table.ipynb>data table notebook</a>'\n",
              "            + ' to learn more about interactive tables.';\n",
              "          element.innerHTML = '';\n",
              "          dataTable['output_type'] = 'display_data';\n",
              "          await google.colab.output.renderOutput(dataTable, element);\n",
              "          const docLink = document.createElement('div');\n",
              "          docLink.innerHTML = docLinkHtml;\n",
              "          element.appendChild(docLink);\n",
              "        }\n",
              "      </script>\n",
              "    </div>\n",
              "  </div>\n",
              "  "
            ]
          },
          "metadata": {},
          "execution_count": 2
        }
      ]
    },
    {
      "cell_type": "markdown",
      "source": [
        "# General Information About to the Dataset"
      ],
      "metadata": {
        "id": "QiSv1NU69pao"
      }
    },
    {
      "cell_type": "code",
      "source": [
        "def check_df(dataframe,head=5):\n",
        "  print(\"######################### Head #########################\")\n",
        "  print(dataframe.head(head))\n",
        "  print(\"######################### Tail #########################\")\n",
        "  print(dataframe.tail(head))\n",
        "  print(\"######################### Shape #########################\")\n",
        "  print(dataframe.shape)\n",
        "  print(\"######################### Types #########################\")\n",
        "  print(dataframe.dtypes)\n",
        "  print(\"######################### NA #########################\")\n",
        "  print(dataframe.isnull().sum())\n",
        "  print(\"######################### Qurtiles #########################\")\n",
        "  print(dataframe.describe([0, 0.05, 0.50, 0.95, 0.99, 1]).T)"
      ],
      "metadata": {
        "id": "cKaTFeBz9XGL"
      },
      "execution_count": 3,
      "outputs": []
    },
    {
      "cell_type": "code",
      "source": [
        "check_df(df)"
      ],
      "metadata": {
        "colab": {
          "base_uri": "https://localhost:8080/"
        },
        "id": "Fj9ZWrMk9sfR",
        "outputId": "9754d23d-f102-45f2-e8b6-17cdbde0426d"
      },
      "execution_count": 4,
      "outputs": [
        {
          "output_type": "stream",
          "name": "stdout",
          "text": [
            "######################### Head #########################\n",
            "     X1      X2      X3      X4    X5  X6    X7  X8     Y1     Y2\n",
            "0 0.980 514.500 294.000 110.250 7.000   2 0.000   0 15.550 21.330\n",
            "1 0.980 514.500 294.000 110.250 7.000   3 0.000   0 15.550 21.330\n",
            "2 0.980 514.500 294.000 110.250 7.000   4 0.000   0 15.550 21.330\n",
            "3 0.980 514.500 294.000 110.250 7.000   5 0.000   0 15.550 21.330\n",
            "4 0.900 563.500 318.500 122.500 7.000   2 0.000   0 20.840 28.280\n",
            "######################### Tail #########################\n",
            "       X1      X2      X3      X4    X5  X6    X7  X8     Y1     Y2\n",
            "763 0.640 784.000 343.000 220.500 3.500   5 0.400   5 17.880 21.400\n",
            "764 0.620 808.500 367.500 220.500 3.500   2 0.400   5 16.540 16.880\n",
            "765 0.620 808.500 367.500 220.500 3.500   3 0.400   5 16.440 17.110\n",
            "766 0.620 808.500 367.500 220.500 3.500   4 0.400   5 16.480 16.610\n",
            "767 0.620 808.500 367.500 220.500 3.500   5 0.400   5 16.640 16.030\n",
            "######################### Shape #########################\n",
            "(768, 10)\n",
            "######################### Types #########################\n",
            "X1    float64\n",
            "X2    float64\n",
            "X3    float64\n",
            "X4    float64\n",
            "X5    float64\n",
            "X6      int64\n",
            "X7    float64\n",
            "X8      int64\n",
            "Y1    float64\n",
            "Y2    float64\n",
            "dtype: object\n",
            "######################### NA #########################\n",
            "X1    0\n",
            "X2    0\n",
            "X3    0\n",
            "X4    0\n",
            "X5    0\n",
            "X6    0\n",
            "X7    0\n",
            "X8    0\n",
            "Y1    0\n",
            "Y2    0\n",
            "dtype: int64\n",
            "######################### Qurtiles #########################\n",
            "     count    mean    std     min      0%      5%     50%     95%     99%    100%     max\n",
            "X1 768.000   0.764  0.106   0.620   0.620   0.620   0.750   0.980   0.980   0.980   0.980\n",
            "X2 768.000 671.708 88.086 514.500 514.500 514.500 673.750 808.500 808.500 808.500 808.500\n",
            "X3 768.000 318.500 43.626 245.000 245.000 245.000 318.500 416.500 416.500 416.500 416.500\n",
            "X4 768.000 176.604 45.166 110.250 110.250 110.250 183.750 220.500 220.500 220.500 220.500\n",
            "X5 768.000   5.250  1.751   3.500   3.500   3.500   5.250   7.000   7.000   7.000   7.000\n",
            "X6 768.000   3.500  1.119   2.000   2.000   2.000   3.500   5.000   5.000   5.000   5.000\n",
            "X7 768.000   0.234  0.133   0.000   0.000   0.000   0.250   0.400   0.400   0.400   0.400\n",
            "X8 768.000   2.812  1.551   0.000   0.000   0.000   3.000   5.000   5.000   5.000   5.000\n",
            "Y1 768.000  22.307 10.090   6.010   6.010  10.464  18.950  39.860  42.090  43.100  43.100\n",
            "Y2 768.000  24.588  9.513  10.900  10.900  13.617  22.080  40.037  45.543  48.030  48.030\n"
          ]
        }
      ]
    },
    {
      "cell_type": "markdown",
      "source": [
        "# Analysis of Categorical and Numerical Variables"
      ],
      "metadata": {
        "id": "zEuQWu9e916u"
      }
    },
    {
      "cell_type": "code",
      "source": [
        "def grab_col_names(dataframe, cat_th=15, car_th=20):\n",
        "  #Catgeorical Variable Selection\n",
        "  cat_cols = [col for col in dataframe.columns if str(dataframe[col].dtypes) in [\"category\",\"object\",\"bool\"]]\n",
        "  num_but_cat = [col for col in dataframe.columns if dataframe[col].nunique() < cat_th and dataframe[col].dtypes in [\"uint8\",\"int64\",\"float64\"]]\n",
        "  cat_but_car = [col for col in dataframe.columns if dataframe[col].nunique() > car_th and str(dataframe[col].dtypes) in [\"category\",\"object\"]]\n",
        "  cat_cols = cat_cols + num_but_cat\n",
        "  cat_cols = [col for col in cat_cols if col not in cat_but_car]\n",
        "\n",
        "  #Numerical Variable Selection\n",
        "  num_cols = [col for col in dataframe.columns if dataframe[col].dtypes in [\"uint8\",\"int64\",\"float64\"]]\n",
        "  num_cols = [col for col in num_cols if col not in cat_cols]\n",
        "\n",
        "  return cat_cols, num_cols, cat_but_car, num_but_cat"
      ],
      "metadata": {
        "id": "qb_OqaRu9tgk"
      },
      "execution_count": 5,
      "outputs": []
    },
    {
      "cell_type": "code",
      "source": [
        "cat_cols, num_cols, cat_but_car, num_but_cat = grab_col_names(df)\n",
        "\n",
        "#Print Categorical and Numerical Variables\n",
        "print(f\"Observations: {df.shape[0]}\")\n",
        "print(f\"Variables: {df.shape[1]}\")\n",
        "print(f\"Cat_cols: {len(cat_cols)}\")\n",
        "print(f\"Num_cols: {len(num_cols)}\")\n",
        "print(f\"Cat_but_car: {len(cat_but_car)}\")\n",
        "print(f\"num_but_cat: {len(num_but_cat)}\")"
      ],
      "metadata": {
        "colab": {
          "base_uri": "https://localhost:8080/"
        },
        "id": "X4u4pOzX95nK",
        "outputId": "4ef0fdd9-554c-4a39-cfef-a7b93ce71e1a"
      },
      "execution_count": 6,
      "outputs": [
        {
          "output_type": "stream",
          "name": "stdout",
          "text": [
            "Observations: 768\n",
            "Variables: 10\n",
            "Cat_cols: 8\n",
            "Num_cols: 2\n",
            "Cat_but_car: 0\n",
            "num_but_cat: 8\n"
          ]
        }
      ]
    },
    {
      "cell_type": "code",
      "source": [
        "def cat_summary(dataframe,col_name,plot=False):\n",
        "  print(pd.DataFrame({col_name: dataframe[col_name].value_counts(),\n",
        "                      'Ration': 100 * dataframe[col_name].value_counts() / len(dataframe)}))\n",
        "  print(\"##########################################\")\n",
        "  if plot:\n",
        "    sns.countplot(x=dataframe[col_name],data=dataframe)\n",
        "    plt.show(block=True)"
      ],
      "metadata": {
        "id": "Oeis9AP8-Onx"
      },
      "execution_count": 7,
      "outputs": []
    },
    {
      "cell_type": "code",
      "source": [
        "def cat_summary_df(dataframe):\n",
        "  cat_cols, num_cols, cat_but_car, num_but_cat = grab_col_names(df)\n",
        "  for col in cat_cols:\n",
        "    cat_summary(dataframe, col, plot=True)"
      ],
      "metadata": {
        "id": "uiPkTJPO_gP5"
      },
      "execution_count": 8,
      "outputs": []
    },
    {
      "cell_type": "code",
      "source": [
        "cat_summary_df(df)"
      ],
      "metadata": {
        "colab": {
          "base_uri": "https://localhost:8080/",
          "height": 1000
        },
        "id": "VFz9VhdT_iBu",
        "outputId": "3de56667-c4d2-4376-a0c5-a1f33e881cb9"
      },
      "execution_count": 9,
      "outputs": [
        {
          "output_type": "stream",
          "name": "stdout",
          "text": [
            "       X1  Ration\n",
            "0.980  64   8.333\n",
            "0.900  64   8.333\n",
            "0.860  64   8.333\n",
            "0.820  64   8.333\n",
            "0.790  64   8.333\n",
            "0.760  64   8.333\n",
            "0.740  64   8.333\n",
            "0.710  64   8.333\n",
            "0.690  64   8.333\n",
            "0.660  64   8.333\n",
            "0.640  64   8.333\n",
            "0.620  64   8.333\n",
            "##########################################\n"
          ]
        },
        {
          "output_type": "display_data",
          "data": {
            "text/plain": [
              "<Figure size 432x288 with 1 Axes>"
            ],
            "image/png": "[encoded data removed]"
          },
          "metadata": {
            "needs_background": "light"
          }
        },
        {
          "output_type": "stream",
          "name": "stdout",
          "text": [
            "         X2  Ration\n",
            "514.500  64   8.333\n",
            "563.500  64   8.333\n",
            "588.000  64   8.333\n",
            "612.500  64   8.333\n",
            "637.000  64   8.333\n",
            "661.500  64   8.333\n",
            "686.000  64   8.333\n",
            "710.500  64   8.333\n",
            "735.000  64   8.333\n",
            "759.500  64   8.333\n",
            "784.000  64   8.333\n",
            "808.500  64   8.333\n",
            "##########################################\n"
          ]
        },
        {
          "output_type": "display_data",
          "data": {
            "text/plain": [
              "<Figure size 432x288 with 1 Axes>"
            ],
            "image/png": "[encoded data removed]"
          },
          "metadata": {
            "needs_background": "light"
          }
        },
        {
          "output_type": "stream",
          "name": "stdout",
          "text": [
            "          X3  Ration\n",
            "294.000  192  25.000\n",
            "318.500  192  25.000\n",
            "343.000  128  16.667\n",
            "416.500   64   8.333\n",
            "245.000   64   8.333\n",
            "269.500   64   8.333\n",
            "367.500   64   8.333\n",
            "##########################################\n"
          ]
        },
        {
          "output_type": "display_data",
          "data": {
            "text/plain": [
              "<Figure size 432x288 with 1 Axes>"
            ],
            "image/png": "[encoded data removed]"
          },
          "metadata": {
            "needs_background": "light"
          }
        },
        {
          "output_type": "stream",
          "name": "stdout",
          "text": [
            "          X4  Ration\n",
            "220.500  384  50.000\n",
            "147.000  192  25.000\n",
            "122.500  128  16.667\n",
            "110.250   64   8.333\n",
            "##########################################\n"
          ]
        },
        {
          "output_type": "display_data",
          "data": {
            "text/plain": [
              "<Figure size 432x288 with 1 Axes>"
            ],
            "image/png": "[encoded data removed]"
          },
          "metadata": {
            "needs_background": "light"
          }
        },
        {
          "output_type": "stream",
          "name": "stdout",
          "text": [
            "        X5  Ration\n",
            "7.000  384  50.000\n",
            "3.500  384  50.000\n",
            "##########################################\n"
          ]
        },
        {
          "output_type": "display_data",
          "data": {
            "text/plain": [
              "<Figure size 432x288 with 1 Axes>"
            ],
            "image/png": "[encoded data removed]"
          },
          "metadata": {
            "needs_background": "light"
          }
        },
        {
          "output_type": "stream",
          "name": "stdout",
          "text": [
            "    X6  Ration\n",
            "2  192  25.000\n",
            "3  192  25.000\n",
            "4  192  25.000\n",
            "5  192  25.000\n",
            "##########################################\n"
          ]
        },
        {
          "output_type": "display_data",
          "data": {
            "text/plain": [
              "<Figure size 432x288 with 1 Axes>"
            ],
            "image/png": "[encoded data removed]"
          },
          "metadata": {
            "needs_background": "light"
          }
        },
        {
          "output_type": "stream",
          "name": "stdout",
          "text": [
            "        X7  Ration\n",
            "0.100  240  31.250\n",
            "0.250  240  31.250\n",
            "0.400  240  31.250\n",
            "0.000   48   6.250\n",
            "##########################################\n"
          ]
        },
        {
          "output_type": "display_data",
          "data": {
            "text/plain": [
              "<Figure size 432x288 with 1 Axes>"
            ],
            "image/png": "[encoded data removed]"
          },
          "metadata": {
            "needs_background": "light"
          }
        },
        {
          "output_type": "stream",
          "name": "stdout",
          "text": [
            "    X8  Ration\n",
            "1  144  18.750\n",
            "2  144  18.750\n",
            "3  144  18.750\n",
            "4  144  18.750\n",
            "5  144  18.750\n",
            "0   48   6.250\n",
            "##########################################\n"
          ]
        },
        {
          "output_type": "display_data",
          "data": {
            "text/plain": [
              "<Figure size 432x288 with 1 Axes>"
            ],
            "image/png": "[encoded data removed]"
          },
          "metadata": {
            "needs_background": "light"
          }
        }
      ]
    },
    {
      "cell_type": "code",
      "source": [
        "def num_summary(dataframe, num_col, plot=False):\n",
        "  quantiles = [0.01, 0.05, 0.10, 0.20, 0.30, 0.40, 0.50, 0.60, 0.70, 0.80, 0.90, 0.95, 0.99]\n",
        "  print(dataframe[num_col].describe(quantiles).T)\n",
        "\n",
        "  if plot:\n",
        "    dataframe[num_col].hist(bins=20)\n",
        "    plt.xlabel(num_col)\n",
        "    plt.title(num_col)\n",
        "    plt.show(block=True)"
      ],
      "metadata": {
        "id": "CFOcl3JZ_kRu"
      },
      "execution_count": 10,
      "outputs": []
    },
    {
      "cell_type": "code",
      "source": [
        "def num_summary_df(dataframe):\n",
        "  cat_cols, num_cols, cat_but_car, num_but_cat = grab_col_names(df)\n",
        "  for col in num_cols:\n",
        "    num_summary(dataframe, col, plot=True)"
      ],
      "metadata": {
        "id": "AiMoQspq_1cf"
      },
      "execution_count": 11,
      "outputs": []
    },
    {
      "cell_type": "code",
      "source": [
        "num_summary_df(df)"
      ],
      "metadata": {
        "colab": {
          "base_uri": "https://localhost:8080/",
          "height": 1000
        },
        "id": "FGZLUz2S_3SG",
        "outputId": "6e64560c-940a-48d6-ff29-00f18ccf5db4"
      },
      "execution_count": 12,
      "outputs": [
        {
          "output_type": "stream",
          "name": "stdout",
          "text": [
            "count   768.000\n",
            "mean     22.307\n",
            "std      10.090\n",
            "min       6.010\n",
            "1%        6.648\n",
            "5%       10.464\n",
            "10%      11.217\n",
            "20%      12.630\n",
            "30%      14.320\n",
            "40%      15.230\n",
            "50%      18.950\n",
            "60%      25.668\n",
            "70%      29.089\n",
            "80%      32.508\n",
            "90%      36.703\n",
            "95%      39.860\n",
            "99%      42.090\n",
            "max      43.100\n",
            "Name: Y1, dtype: float64\n"
          ]
        },
        {
          "output_type": "display_data",
          "data": {
            "text/plain": [
              "<Figure size 432x288 with 1 Axes>"
            ],
            "image/png": "[encoded data removed]"
          },
          "metadata": {
            "needs_background": "light"
          }
        },
        {
          "output_type": "stream",
          "name": "stdout",
          "text": [
            "count   768.000\n",
            "mean     24.588\n",
            "std       9.513\n",
            "min      10.900\n",
            "1%       11.727\n",
            "5%       13.617\n",
            "10%      14.237\n",
            "20%      15.116\n",
            "30%      16.278\n",
            "40%      17.720\n",
            "50%      22.080\n",
            "60%      28.286\n",
            "70%      31.263\n",
            "80%      34.062\n",
            "90%      37.422\n",
            "95%      40.037\n",
            "99%      45.543\n",
            "max      48.030\n",
            "Name: Y2, dtype: float64\n"
          ]
        },
        {
          "output_type": "display_data",
          "data": {
            "text/plain": [
              "<Figure size 432x288 with 1 Axes>"
            ],
            "image/png": "[encoded data removed]"
          },
          "metadata": {
            "needs_background": "light"
          }
        }
      ]
    },
    {
      "cell_type": "code",
      "source": [
        "def plot_num_summary(dataframe):\n",
        "  cat_cols, num_cols, cat_but_car, num_but_cat = grab_col_names(dataframe)\n",
        "  plt.figure(figsize=(10,4))\n",
        "  for index, col in enumerate(num_cols):\n",
        "    plt.subplot(1,2,index+1)\n",
        "    plt.tight_layout()\n",
        "    dataframe[col].hist(bins=20)\n",
        "    plt.title(col)"
      ],
      "metadata": {
        "id": "KASErXYe_5EC"
      },
      "execution_count": 13,
      "outputs": []
    },
    {
      "cell_type": "code",
      "source": [
        "plot_num_summary(df)"
      ],
      "metadata": {
        "colab": {
          "base_uri": "https://localhost:8080/",
          "height": 297
        },
        "id": "5gO1UJ0YADoI",
        "outputId": "bd85e244-388a-4686-bcfb-db22c400cd2b"
      },
      "execution_count": 14,
      "outputs": [
        {
          "output_type": "display_data",
          "data": {
            "text/plain": [
              "<Figure size 720x288 with 2 Axes>"
            ],
            "image/png": "[encoded data removed]"
          },
          "metadata": {
            "needs_background": "light"
          }
        }
      ]
    },
    {
      "cell_type": "code",
      "source": [
        "def target_summary_with_cat(dataframe, target, categorical_col):\n",
        "  print(pd.DataFrame({\"Target Mean\": dataframe.groupby(categorical_col)[target].mean()}))\n",
        "  print(\"#############################################\")"
      ],
      "metadata": {
        "id": "3rSZdGnvAaxM"
      },
      "execution_count": 15,
      "outputs": []
    },
    {
      "cell_type": "code",
      "source": [
        "def target_summary_with_cat_df(dataframe, target):\n",
        "  cat_cols, num_cols, cat_but_car, num_but_cat = grab_col_names(df)\n",
        "  for col in cat_cols:\n",
        "    target_summary_with_cat(dataframe, target, col)"
      ],
      "metadata": {
        "id": "pdI-2WPRA4Ol"
      },
      "execution_count": 16,
      "outputs": []
    },
    {
      "cell_type": "code",
      "source": [
        "target_summary_with_cat_df(df, \"Y1\")"
      ],
      "metadata": {
        "colab": {
          "base_uri": "https://localhost:8080/"
        },
        "id": "At4yZRmUA59H",
        "outputId": "c769676a-7e49-44fb-e0f1-d17594c07404"
      },
      "execution_count": 17,
      "outputs": [
        {
          "output_type": "stream",
          "name": "stdout",
          "text": [
            "       Target Mean\n",
            "X1                \n",
            "0.620       14.283\n",
            "0.640       16.615\n",
            "0.660       12.817\n",
            "0.690       12.389\n",
            "0.710       12.040\n",
            "0.740       11.887\n",
            "0.760       35.664\n",
            "0.790       38.608\n",
            "0.820       25.555\n",
            "0.860       28.553\n",
            "0.900       31.629\n",
            "0.980       27.646\n",
            "#############################################\n",
            "         Target Mean\n",
            "X2                  \n",
            "514.500       27.646\n",
            "563.500       31.629\n",
            "588.000       28.553\n",
            "612.500       25.555\n",
            "637.000       38.608\n",
            "661.500       35.664\n",
            "686.000       11.887\n",
            "710.500       12.040\n",
            "735.000       12.389\n",
            "759.500       12.817\n",
            "784.000       16.615\n",
            "808.500       14.283\n",
            "#############################################\n",
            "         Target Mean\n",
            "X3                  \n",
            "245.000       11.887\n",
            "269.500       12.040\n",
            "294.000       22.863\n",
            "318.500       23.334\n",
            "343.000       27.612\n",
            "367.500       14.283\n",
            "416.500       35.664\n",
            "#############################################\n",
            "         Target Mean\n",
            "X4                  \n",
            "110.250       27.646\n",
            "122.500       33.647\n",
            "147.000       30.905\n",
            "220.500       13.339\n",
            "#############################################\n",
            "       Target Mean\n",
            "X5                \n",
            "3.500       13.339\n",
            "7.000       31.276\n",
            "#############################################\n",
            "    Target Mean\n",
            "X6             \n",
            "2        22.313\n",
            "3        22.381\n",
            "4        22.260\n",
            "5        22.275\n",
            "#############################################\n",
            "       Target Mean\n",
            "X7                \n",
            "0.000       14.286\n",
            "0.100       20.357\n",
            "0.250       22.757\n",
            "0.400       25.412\n",
            "#############################################\n",
            "    Target Mean\n",
            "X8             \n",
            "0        14.286\n",
            "1        23.026\n",
            "2        22.934\n",
            "3        22.681\n",
            "4        22.887\n",
            "5        22.681\n",
            "#############################################\n"
          ]
        }
      ]
    },
    {
      "cell_type": "code",
      "source": [
        "target_summary_with_cat_df(df, \"Y2\")"
      ],
      "metadata": {
        "colab": {
          "base_uri": "https://localhost:8080/"
        },
        "id": "WXyb2FdqA-V2",
        "outputId": "2bfd9d69-a13e-4e9d-e7ab-dae74f1414ea"
      },
      "execution_count": 18,
      "outputs": [
        {
          "output_type": "stream",
          "name": "stdout",
          "text": [
            "       Target Mean\n",
            "X1                \n",
            "0.620       15.244\n",
            "0.640       20.227\n",
            "0.660       15.870\n",
            "0.690       15.242\n",
            "0.710       15.035\n",
            "0.740       14.810\n",
            "0.760       36.407\n",
            "0.790       40.239\n",
            "0.820       28.028\n",
            "0.860       30.912\n",
            "0.900       33.821\n",
            "0.980       29.217\n",
            "#############################################\n",
            "         Target Mean\n",
            "X2                  \n",
            "514.500       29.217\n",
            "563.500       33.821\n",
            "588.000       30.912\n",
            "612.500       28.028\n",
            "637.000       40.239\n",
            "661.500       36.407\n",
            "686.000       14.810\n",
            "710.500       15.035\n",
            "735.000       15.242\n",
            "759.500       15.870\n",
            "784.000       20.227\n",
            "808.500       15.244\n",
            "#############################################\n",
            "         Target Mean\n",
            "X3                  \n",
            "245.000       14.810\n",
            "269.500       15.035\n",
            "294.000       25.124\n",
            "318.500       25.906\n",
            "343.000       30.233\n",
            "367.500       15.244\n",
            "416.500       36.407\n",
            "#############################################\n",
            "         Target Mean\n",
            "X4                  \n",
            "110.250       29.217\n",
            "122.500       35.114\n",
            "147.000       33.060\n",
            "220.500       16.071\n",
            "#############################################\n",
            "       Target Mean\n",
            "X5                \n",
            "3.500       16.071\n",
            "7.000       33.104\n",
            "#############################################\n",
            "    Target Mean\n",
            "X6             \n",
            "2        24.605\n",
            "3        24.313\n",
            "4        24.480\n",
            "5        24.954\n",
            "#############################################\n",
            "       Target Mean\n",
            "X7                \n",
            "0.000       19.706\n",
            "0.100       22.936\n",
            "0.250       24.893\n",
            "0.400       26.911\n",
            "#############################################\n",
            "    Target Mean\n",
            "X8             \n",
            "0        19.706\n",
            "1        25.180\n",
            "2        24.997\n",
            "3        24.659\n",
            "4        25.015\n",
            "5        24.715\n",
            "#############################################\n"
          ]
        }
      ]
    },
    {
      "cell_type": "markdown",
      "source": [
        "# Examination of the dependent variable"
      ],
      "metadata": {
        "id": "nZqSZ8xuBesO"
      }
    },
    {
      "cell_type": "code",
      "source": [
        "def exam_dependent_variable(dataframe, target):\n",
        "  plt.figure(figsize=(16,4))\n",
        "  plt.subplot(121)\n",
        "  dataframe[target].hist(bins=100)\n",
        "  plt.title(target + \", Histogram\")\n",
        "  plt.subplot(122)\n",
        "  np.log1p(dataframe[target]).hist(bins=50)\n",
        "  plt.title(target + \", Logaritmic Histogram\")"
      ],
      "metadata": {
        "id": "J1Qwxz6hBI3h"
      },
      "execution_count": 19,
      "outputs": []
    },
    {
      "cell_type": "code",
      "source": [
        "exam_dependent_variable(df, \"Y1\")"
      ],
      "metadata": {
        "colab": {
          "base_uri": "https://localhost:8080/",
          "height": 281
        },
        "id": "oh_MX06_BTIl",
        "outputId": "28137004-4030-404f-9a6c-29a95e63db40"
      },
      "execution_count": 20,
      "outputs": [
        {
          "output_type": "display_data",
          "data": {
            "text/plain": [
              "<Figure size 1152x288 with 2 Axes>"
            ],
            "image/png": "[encoded data removed]"
          },
          "metadata": {
            "needs_background": "light"
          }
        }
      ]
    },
    {
      "cell_type": "code",
      "source": [
        "exam_dependent_variable(df, \"Y2\")"
      ],
      "metadata": {
        "colab": {
          "base_uri": "https://localhost:8080/",
          "height": 281
        },
        "id": "kGsa8FZvBWXm",
        "outputId": "9f1e6d79-2188-4012-f39b-cbc4b7c5ee6e"
      },
      "execution_count": 21,
      "outputs": [
        {
          "output_type": "display_data",
          "data": {
            "text/plain": [
              "<Figure size 1152x288 with 2 Axes>"
            ],
            "image/png": "[encoded data removed]"
          },
          "metadata": {
            "needs_background": "light"
          }
        }
      ]
    },
    {
      "cell_type": "markdown",
      "source": [
        "# Correlation Analysis"
      ],
      "metadata": {
        "id": "rYNa_zqRBnYS"
      }
    },
    {
      "cell_type": "code",
      "source": [
        "df.corr()"
      ],
      "metadata": {
        "colab": {
          "base_uri": "https://localhost:8080/",
          "height": 363
        },
        "id": "o8xuOPdXBcCB",
        "outputId": "00fdfdbf-9f81-4067-f69e-058a508b06a5"
      },
      "execution_count": 22,
      "outputs": [
        {
          "output_type": "execute_result",
          "data": {
            "text/plain": [
              "       X1     X2     X3     X4     X5     X6     X7     X8     Y1     Y2\n",
              "X1  1.000 -0.992 -0.204 -0.869  0.828  0.000 -0.000 -0.000  0.622  0.634\n",
              "X2 -0.992  1.000  0.196  0.881 -0.858 -0.000  0.000  0.000 -0.658 -0.673\n",
              "X3 -0.204  0.196  1.000 -0.292  0.281 -0.000 -0.000  0.000  0.456  0.427\n",
              "X4 -0.869  0.881 -0.292  1.000 -0.973 -0.000 -0.000 -0.000 -0.862 -0.863\n",
              "X5  0.828 -0.858  0.281 -0.973  1.000  0.000  0.000 -0.000  0.889  0.896\n",
              "X6  0.000 -0.000 -0.000 -0.000  0.000  1.000 -0.000 -0.000 -0.003  0.014\n",
              "X7 -0.000  0.000 -0.000 -0.000  0.000 -0.000  1.000  0.213  0.270  0.208\n",
              "X8 -0.000  0.000  0.000 -0.000 -0.000 -0.000  0.213  1.000  0.087  0.051\n",
              "Y1  0.622 -0.658  0.456 -0.862  0.889 -0.003  0.270  0.087  1.000  0.976\n",
              "Y2  0.634 -0.673  0.427 -0.863  0.896  0.014  0.208  0.051  0.976  1.000"
            ],
            "text/html": [
              "\n",
              "  <div id=\"df-0e49551a-b993-4c34-8dda-1cdd73795a44\">\n",
              "    <div class=\"colab-df-container\">\n",
              "      <div>\n",
              "<style scoped>\n",
              "    .dataframe tbody tr th:only-of-type {\n",
              "        vertical-align: middle;\n",
              "    }\n",
              "\n",
              "    .dataframe tbody tr th {\n",
              "        vertical-align: top;\n",
              "    }\n",
              "\n",
              "    .dataframe thead th {\n",
              "        text-align: right;\n",
              "    }\n",
              "</style>\n",
              "<table border=\"1\" class=\"dataframe\">\n",
              "  <thead>\n",
              "    <tr style=\"text-align: right;\">\n",
              "      <th></th>\n",
              "      <th>X1</th>\n",
              "      <th>X2</th>\n",
              "      <th>X3</th>\n",
              "      <th>X4</th>\n",
              "      <th>X5</th>\n",
              "      <th>X6</th>\n",
              "      <th>X7</th>\n",
              "      <th>X8</th>\n",
              "      <th>Y1</th>\n",
              "      <th>Y2</th>\n",
              "    </tr>\n",
              "  </thead>\n",
              "  <tbody>\n",
              "    <tr>\n",
              "      <th>X1</th>\n",
              "      <td>1.000</td>\n",
              "      <td>-0.992</td>\n",
              "      <td>-0.204</td>\n",
              "      <td>-0.869</td>\n",
              "      <td>0.828</td>\n",
              "      <td>0.000</td>\n",
              "      <td>-0.000</td>\n",
              "      <td>-0.000</td>\n",
              "      <td>0.622</td>\n",
              "      <td>0.634</td>\n",
              "    </tr>\n",
              "    <tr>\n",
              "      <th>X2</th>\n",
              "      <td>-0.992</td>\n",
              "      <td>1.000</td>\n",
              "      <td>0.196</td>\n",
              "      <td>0.881</td>\n",
              "      <td>-0.858</td>\n",
              "      <td>-0.000</td>\n",
              "      <td>0.000</td>\n",
              "      <td>0.000</td>\n",
              "      <td>-0.658</td>\n",
              "      <td>-0.673</td>\n",
              "    </tr>\n",
              "    <tr>\n",
              "      <th>X3</th>\n",
              "      <td>-0.204</td>\n",
              "      <td>0.196</td>\n",
              "      <td>1.000</td>\n",
              "      <td>-0.292</td>\n",
              "      <td>0.281</td>\n",
              "      <td>-0.000</td>\n",
              "      <td>-0.000</td>\n",
              "      <td>0.000</td>\n",
              "      <td>0.456</td>\n",
              "      <td>0.427</td>\n",
              "    </tr>\n",
              "    <tr>\n",
              "      <th>X4</th>\n",
              "      <td>-0.869</td>\n",
              "      <td>0.881</td>\n",
              "      <td>-0.292</td>\n",
              "      <td>1.000</td>\n",
              "      <td>-0.973</td>\n",
              "      <td>-0.000</td>\n",
              "      <td>-0.000</td>\n",
              "      <td>-0.000</td>\n",
              "      <td>-0.862</td>\n",
              "      <td>-0.863</td>\n",
              "    </tr>\n",
              "    <tr>\n",
              "      <th>X5</th>\n",
              "      <td>0.828</td>\n",
              "      <td>-0.858</td>\n",
              "      <td>0.281</td>\n",
              "      <td>-0.973</td>\n",
              "      <td>1.000</td>\n",
              "      <td>0.000</td>\n",
              "      <td>0.000</td>\n",
              "      <td>-0.000</td>\n",
              "      <td>0.889</td>\n",
              "      <td>0.896</td>\n",
              "    </tr>\n",
              "    <tr>\n",
              "      <th>X6</th>\n",
              "      <td>0.000</td>\n",
              "      <td>-0.000</td>\n",
              "      <td>-0.000</td>\n",
              "      <td>-0.000</td>\n",
              "      <td>0.000</td>\n",
              "      <td>1.000</td>\n",
              "      <td>-0.000</td>\n",
              "      <td>-0.000</td>\n",
              "      <td>-0.003</td>\n",
              "      <td>0.014</td>\n",
              "    </tr>\n",
              "    <tr>\n",
              "      <th>X7</th>\n",
              "      <td>-0.000</td>\n",
              "      <td>0.000</td>\n",
              "      <td>-0.000</td>\n",
              "      <td>-0.000</td>\n",
              "      <td>0.000</td>\n",
              "      <td>-0.000</td>\n",
              "      <td>1.000</td>\n",
              "      <td>0.213</td>\n",
              "      <td>0.270</td>\n",
              "      <td>0.208</td>\n",
              "    </tr>\n",
              "    <tr>\n",
              "      <th>X8</th>\n",
              "      <td>-0.000</td>\n",
              "      <td>0.000</td>\n",
              "      <td>0.000</td>\n",
              "      <td>-0.000</td>\n",
              "      <td>-0.000</td>\n",
              "      <td>-0.000</td>\n",
              "      <td>0.213</td>\n",
              "      <td>1.000</td>\n",
              "      <td>0.087</td>\n",
              "      <td>0.051</td>\n",
              "    </tr>\n",
              "    <tr>\n",
              "      <th>Y1</th>\n",
              "      <td>0.622</td>\n",
              "      <td>-0.658</td>\n",
              "      <td>0.456</td>\n",
              "      <td>-0.862</td>\n",
              "      <td>0.889</td>\n",
              "      <td>-0.003</td>\n",
              "      <td>0.270</td>\n",
              "      <td>0.087</td>\n",
              "      <td>1.000</td>\n",
              "      <td>0.976</td>\n",
              "    </tr>\n",
              "    <tr>\n",
              "      <th>Y2</th>\n",
              "      <td>0.634</td>\n",
              "      <td>-0.673</td>\n",
              "      <td>0.427</td>\n",
              "      <td>-0.863</td>\n",
              "      <td>0.896</td>\n",
              "      <td>0.014</td>\n",
              "      <td>0.208</td>\n",
              "      <td>0.051</td>\n",
              "      <td>0.976</td>\n",
              "      <td>1.000</td>\n",
              "    </tr>\n",
              "  </tbody>\n",
              "</table>\n",
              "</div>\n",
              "      <button class=\"colab-df-convert\" onclick=\"convertToInteractive('df-0e49551a-b993-4c34-8dda-1cdd73795a44')\"\n",
              "              title=\"Convert this dataframe to an interactive table.\"\n",
              "              style=\"display:none;\">\n",
              "        \n",
              "  <svg xmlns=\"http://www.w3.org/2000/svg\" height=\"24px\"viewBox=\"0 0 24 24\"\n",
              "       width=\"24px\">\n",
              "    <path d=\"M0 0h24v24H0V0z\" fill=\"none\"/>\n",
              "    <path d=\"M18.56 5.44l.94 2.06.94-2.06 2.06-.94-2.06-.94-.94-2.06-.94 2.06-2.06.94zm-11 1L8.5 8.5l.94-2.06 2.06-.94-2.06-.94L8.5 2.5l-.94 2.06-2.06.94zm10 10l.94 2.06.94-2.06 2.06-.94-2.06-.94-.94-2.06-.94 2.06-2.06.94z\"/><path d=\"M17.41 7.96l-1.37-1.37c-.4-.4-.92-.59-1.43-.59-.52 0-1.04.2-1.43.59L10.3 9.45l-7.72 7.72c-.78.78-.78 2.05 0 2.83L4 21.41c.39.39.9.59 1.41.59.51 0 1.02-.2 1.41-.59l7.78-7.78 2.81-2.81c.8-.78.8-2.07 0-2.86zM5.41 20L4 18.59l7.72-7.72 1.47 1.35L5.41 20z\"/>\n",
              "  </svg>\n",
              "      </button>\n",
              "      \n",
              "  <style>\n",
              "    .colab-df-container {\n",
              "      display:flex;\n",
              "      flex-wrap:wrap;\n",
              "      gap: 12px;\n",
              "    }\n",
              "\n",
              "    .colab-df-convert {\n",
              "      background-color: #E8F0FE;\n",
              "      border: none;\n",
              "      border-radius: 50%;\n",
              "      cursor: pointer;\n",
              "      display: none;\n",
              "      fill: #1967D2;\n",
              "      height: 32px;\n",
              "      padding: 0 0 0 0;\n",
              "      width: 32px;\n",
              "    }\n",
              "\n",
              "    .colab-df-convert:hover {\n",
              "      background-color: #E2EBFA;\n",
              "      box-shadow: 0px 1px 2px rgba(60, 64, 67, 0.3), 0px 1px 3px 1px rgba(60, 64, 67, 0.15);\n",
              "      fill: #174EA6;\n",
              "    }\n",
              "\n",
              "    [theme=dark] .colab-df-convert {\n",
              "      background-color: #3B4455;\n",
              "      fill: #D2E3FC;\n",
              "    }\n",
              "\n",
              "    [theme=dark] .colab-df-convert:hover {\n",
              "      background-color: #434B5C;\n",
              "      box-shadow: 0px 1px 3px 1px rgba(0, 0, 0, 0.15);\n",
              "      filter: drop-shadow(0px 1px 2px rgba(0, 0, 0, 0.3));\n",
              "      fill: #FFFFFF;\n",
              "    }\n",
              "  </style>\n",
              "\n",
              "      <script>\n",
              "        const buttonEl =\n",
              "          document.querySelector('#df-0e49551a-b993-4c34-8dda-1cdd73795a44 button.colab-df-convert');\n",
              "        buttonEl.style.display =\n",
              "          google.colab.kernel.accessAllowed ? 'block' : 'none';\n",
              "\n",
              "        async function convertToInteractive(key) {\n",
              "          const element = document.querySelector('#df-0e49551a-b993-4c34-8dda-1cdd73795a44');\n",
              "          const dataTable =\n",
              "            await google.colab.kernel.invokeFunction('convertToInteractive',\n",
              "                                                     [key], {});\n",
              "          if (!dataTable) return;\n",
              "\n",
              "          const docLinkHtml = 'Like what you see? Visit the ' +\n",
              "            '<a target=\"_blank\" href=https://colab.research.google.com/notebooks/data_table.ipynb>data table notebook</a>'\n",
              "            + ' to learn more about interactive tables.';\n",
              "          element.innerHTML = '';\n",
              "          dataTable['output_type'] = 'display_data';\n",
              "          await google.colab.output.renderOutput(dataTable, element);\n",
              "          const docLink = document.createElement('div');\n",
              "          docLink.innerHTML = docLinkHtml;\n",
              "          element.appendChild(docLink);\n",
              "        }\n",
              "      </script>\n",
              "    </div>\n",
              "  </div>\n",
              "  "
            ]
          },
          "metadata": {},
          "execution_count": 22
        }
      ]
    },
    {
      "cell_type": "code",
      "source": [
        "f, ax = plt.subplots(figsize=[18, 13])\n",
        "sns.heatmap(df.corr(), annot=True, fmt=\".2f\", ax=ax, cmap=\"magma\")\n",
        "ax.set_title(\"Correlation Matrix\", fontsize=20)\n",
        "plt.show()"
      ],
      "metadata": {
        "colab": {
          "base_uri": "https://localhost:8080/",
          "height": 776
        },
        "id": "ska0zyw8BpDI",
        "outputId": "ade7a83b-c4cf-4cd1-f1e8-44f4744637cd"
      },
      "execution_count": 23,
      "outputs": [
        {
          "output_type": "display_data",
          "data": {
            "text/plain": [
              "<Figure size 1296x936 with 2 Axes>"
            ],
            "image/png": "[encoded data removed]"
          },
          "metadata": {
            "needs_background": "light"
          }
        }
      ]
    },
    {
      "cell_type": "code",
      "source": [
        "def high_correlated_cols(dataframe, plot=False, corr_th = 0.90):\n",
        "  corr = dataframe.corr()\n",
        "  corr_matrix = corr.abs()\n",
        "  upper_triangle_matrix = corr_matrix.where(np.triu(np.ones(corr_matrix.shape),k=1).astype(np.bool))\n",
        "  drop_list = [col for col in upper_triangle_matrix.columns if any(upper_triangle_matrix[col] > corr_th)]\n",
        "\n",
        "  if drop_list == []:\n",
        "    print(\"############## After Correlation Analysis, You Don't Need to Remove Variables ##############\")\n",
        "\n",
        "  if plot:\n",
        "    sns.set(rc = {'figure.figsize':(18,13)})\n",
        "    sns.heatmap(corr, cmap=\"RdBu\")\n",
        "    plt.show()\n",
        "  return drop_list"
      ],
      "metadata": {
        "id": "yX4usf6ABszg"
      },
      "execution_count": 24,
      "outputs": []
    },
    {
      "cell_type": "code",
      "source": [
        "high_correlated_cols(df, plot=True)"
      ],
      "metadata": {
        "colab": {
          "base_uri": "https://localhost:8080/",
          "height": 850
        },
        "id": "7d-nbwSNB0Iu",
        "outputId": "93936c31-d589-452f-864a-b67d2bef7307"
      },
      "execution_count": 25,
      "outputs": [
        {
          "output_type": "stream",
          "name": "stderr",
          "text": [
            "<ipython-input-24-dcff60c12093>:4: DeprecationWarning: `np.bool` is a deprecated alias for the builtin `bool`. To silence this warning, use `bool` by itself. Doing this will not modify any behavior and is safe. If you specifically wanted the numpy scalar type, use `np.bool_` here.\n",
            "Deprecated in NumPy 1.20; for more details and guidance: https://numpy.org/devdocs/release/1.20.0-notes.html#deprecations\n",
            "  upper_triangle_matrix = corr_matrix.where(np.triu(np.ones(corr_matrix.shape),k=1).astype(np.bool))\n"
          ]
        },
        {
          "output_type": "display_data",
          "data": {
            "text/plain": [
              "<Figure size 1296x936 with 2 Axes>"
            ],
            "image/png": "[encoded data removed]"
          },
          "metadata": {}
        },
        {
          "output_type": "execute_result",
          "data": {
            "text/plain": [
              "['X2', 'X5', 'Y2']"
            ]
          },
          "metadata": {},
          "execution_count": 25
        }
      ]
    },
    {
      "cell_type": "markdown",
      "source": [
        "# Outlier Analysis"
      ],
      "metadata": {
        "id": "QEi8YukwClo8"
      }
    },
    {
      "cell_type": "code",
      "source": [
        "def outlier_thresholds(dataframe,col_name,q1=0.10,q3=0.90):\n",
        "  quartile1 = dataframe[col_name].quantile(q1)\n",
        "  quartile3 = dataframe[col_name].quantile(q3)\n",
        "  interquartile_range = quartile3 - quartile1\n",
        "  low_limit = quartile1 - 1.5 * interquartile_range\n",
        "  up_limit = quartile3 + 1.5 * interquartile_range\n",
        "  return low_limit,up_limit"
      ],
      "metadata": {
        "id": "pVflzI4ZCVUS"
      },
      "execution_count": 26,
      "outputs": []
    },
    {
      "cell_type": "code",
      "source": [
        "def check_outlier(dataframe, col_name):\n",
        "  low_limit,up_limit = outlier_thresholds(dataframe,col_name)\n",
        "  if dataframe[(dataframe[col_name] > up_limit) | (dataframe[col_name] < low_limit)].any(axis=None):\n",
        "    return True\n",
        "  else:\n",
        "    return False"
      ],
      "metadata": {
        "id": "flx4laIfCnrp"
      },
      "execution_count": 27,
      "outputs": []
    },
    {
      "cell_type": "code",
      "source": [
        "def replace_with_thresholds(dataframe, col_name):\n",
        "  low_limit, up_limit = outlier_thresholds(dataframe, col_name)\n",
        "  dataframe.loc[(dataframe[col_name] < low_limit), col_name] = low_limit\n",
        "  dataframe.loc[(dataframe[col_name] > up_limit), col_name] = up_limit"
      ],
      "metadata": {
        "id": "Vxc4Vl30CsBv"
      },
      "execution_count": 28,
      "outputs": []
    },
    {
      "cell_type": "code",
      "source": [
        "def solve_outliers(dataframe, target):\n",
        "  cat_cols, num_cols, cat_but_car, num_but_cat = grab_col_names(dataframe)\n",
        "  for col in num_cols:\n",
        "    if col!=target:\n",
        "      print(col, check_outlier(dataframe, col))\n",
        "      if check_outlier(dataframe, col):\n",
        "        replace_with_thresholds(dataframe, col)"
      ],
      "metadata": {
        "id": "FNYn_CA1Ct9V"
      },
      "execution_count": 29,
      "outputs": []
    },
    {
      "cell_type": "code",
      "source": [
        "solve_outliers(df, \"Y1\")"
      ],
      "metadata": {
        "colab": {
          "base_uri": "https://localhost:8080/"
        },
        "id": "jFRXwZVNCwDj",
        "outputId": "42e23a80-8b5f-47f1-c00b-d01b64ccea5b"
      },
      "execution_count": 30,
      "outputs": [
        {
          "output_type": "stream",
          "name": "stdout",
          "text": [
            "Y2 False\n"
          ]
        }
      ]
    },
    {
      "cell_type": "code",
      "source": [
        "solve_outliers(df, \"Y2\")"
      ],
      "metadata": {
        "colab": {
          "base_uri": "https://localhost:8080/"
        },
        "id": "qs7eAcIEC84b",
        "outputId": "72bf8c40-dfcc-4286-86dc-8358654f0eca"
      },
      "execution_count": 31,
      "outputs": [
        {
          "output_type": "stream",
          "name": "stdout",
          "text": [
            "Y1 False\n"
          ]
        }
      ]
    },
    {
      "cell_type": "code",
      "source": [
        "def check_outlier_df(dataframe, target):\n",
        "  cat_cols, num_cols, cat_but_car, num_but_cat = grab_col_names(dataframe)\n",
        "  for col in num_cols:\n",
        "    if col!=target:\n",
        "      print(col, check_outlier(dataframe, col))"
      ],
      "metadata": {
        "id": "bj0mtA_LDBOL"
      },
      "execution_count": 32,
      "outputs": []
    },
    {
      "cell_type": "code",
      "source": [
        "check_outlier_df(df, \"Y1\")"
      ],
      "metadata": {
        "colab": {
          "base_uri": "https://localhost:8080/"
        },
        "id": "yVC71xuJDF1Q",
        "outputId": "a9f6b93d-8c80-4f17-9aa1-9c5063551920"
      },
      "execution_count": 33,
      "outputs": [
        {
          "output_type": "stream",
          "name": "stdout",
          "text": [
            "Y2 False\n"
          ]
        }
      ]
    },
    {
      "cell_type": "code",
      "source": [
        "check_outlier_df(df, \"Y2\")"
      ],
      "metadata": {
        "colab": {
          "base_uri": "https://localhost:8080/"
        },
        "id": "T5aSIqofDIOZ",
        "outputId": "e4cff8ac-4a55-482f-8b4b-2e032273b978"
      },
      "execution_count": 34,
      "outputs": [
        {
          "output_type": "stream",
          "name": "stdout",
          "text": [
            "Y1 False\n"
          ]
        }
      ]
    },
    {
      "cell_type": "markdown",
      "source": [
        "# Missing Value Analysis"
      ],
      "metadata": {
        "id": "K6Z4QFp9DO1W"
      }
    },
    {
      "cell_type": "code",
      "source": [
        "def missing_value_table(dataframe, na_name=False):\n",
        "  na_columns = [col for col in dataframe.columns if dataframe[col].isnull().sum() > 0]\n",
        "  n_miss = dataframe[na_columns].isnull().sum().sort_values(ascending=False)\n",
        "  ratio = (dataframe[na_columns].isnull().sum() / dataframe.shape[0] * 100).sort_values(ascending=False)\n",
        "  missing_df = pd.concat([n_miss, np.round(ratio, 2)], axis=1, keys=[\"n_miss\",\"ratio\"])\n",
        "  print(missing_df, end=\"\\n\")\n",
        "  if na_name:\n",
        "    return na_columns"
      ],
      "metadata": {
        "id": "yxCMWHOGDK8-"
      },
      "execution_count": 35,
      "outputs": []
    },
    {
      "cell_type": "code",
      "source": [
        "na_columns = missing_value_table(df, na_name=True)"
      ],
      "metadata": {
        "colab": {
          "base_uri": "https://localhost:8080/"
        },
        "id": "2ap3HvxvDRZ2",
        "outputId": "8bac0a1b-a76d-4596-9ccd-af57291107cd"
      },
      "execution_count": 36,
      "outputs": [
        {
          "output_type": "stream",
          "name": "stdout",
          "text": [
            "Empty DataFrame\n",
            "Columns: [n_miss, ratio]\n",
            "Index: []\n"
          ]
        }
      ]
    },
    {
      "cell_type": "code",
      "source": [
        "df.isnull().sum()"
      ],
      "metadata": {
        "colab": {
          "base_uri": "https://localhost:8080/"
        },
        "id": "W81G6JQgDT0D",
        "outputId": "5b69e0ed-eb3c-435b-a806-68088697dc95"
      },
      "execution_count": 37,
      "outputs": [
        {
          "output_type": "execute_result",
          "data": {
            "text/plain": [
              "X1    0\n",
              "X2    0\n",
              "X3    0\n",
              "X4    0\n",
              "X5    0\n",
              "X6    0\n",
              "X7    0\n",
              "X8    0\n",
              "Y1    0\n",
              "Y2    0\n",
              "dtype: int64"
            ]
          },
          "metadata": {},
          "execution_count": 37
        }
      ]
    },
    {
      "cell_type": "markdown",
      "source": [
        "# Encoding Scaling"
      ],
      "metadata": {
        "id": "n_Ox6yX6DxvK"
      }
    },
    {
      "cell_type": "code",
      "source": [
        "def label_encoding(dataframe, binary_col):\n",
        "  labelencoder = LabelEncoder()\n",
        "  dataframe[binary_col] = labelencoder.fit_transform(dataframe[binary_col])\n",
        "  return dataframe"
      ],
      "metadata": {
        "id": "fLQ_QO4LDdmR"
      },
      "execution_count": 38,
      "outputs": []
    },
    {
      "cell_type": "code",
      "source": [
        "def label_encoder(dataframe):\n",
        "  binary_cols = [col for col in dataframe.columns if dataframe[col].dtypes == \"O\" and dataframe[col].nunique() == 2]\n",
        "  for col in binary_cols:\n",
        "      dataframe = label_encoding(dataframe, col)\n",
        "  return dataframe"
      ],
      "metadata": {
        "id": "PB3Zq0Q8D24B"
      },
      "execution_count": 39,
      "outputs": []
    },
    {
      "cell_type": "code",
      "source": [
        "df = label_encoder(df)"
      ],
      "metadata": {
        "id": "Wt5IIjqCD5PN"
      },
      "execution_count": 40,
      "outputs": []
    },
    {
      "cell_type": "code",
      "source": [
        "def one_hot_encoder(dataframe, target, drop_first=False):\n",
        "    binary_cols = [col for col in dataframe.columns if dataframe[col].dtypes == \"O\" and dataframe[col].nunique() == 2]\n",
        "    cat_cols, num_cols, cat_but_car, num_but_cat = grab_col_names(df)\n",
        "    cat_cols = [col for col in cat_cols if col not in binary_cols and col not in [target]]\n",
        "    dataframe = pd.get_dummies(dataframe, columns=cat_cols, drop_first=drop_first)\n",
        "    return dataframe"
      ],
      "metadata": {
        "id": "W6KYmjKWD8Jp"
      },
      "execution_count": 41,
      "outputs": []
    },
    {
      "cell_type": "code",
      "source": [
        "df = one_hot_encoder(df, [\"Y1\",\"Y2\"], drop_first=True)"
      ],
      "metadata": {
        "id": "fjxHadRPEFR0"
      },
      "execution_count": 42,
      "outputs": []
    },
    {
      "cell_type": "code",
      "source": [
        "df.head()"
      ],
      "metadata": {
        "colab": {
          "base_uri": "https://localhost:8080/",
          "height": 270
        },
        "id": "esp7cP9YICl4",
        "outputId": "9b3f8f38-ecd6-4f98-99d7-9132b7c78f94"
      },
      "execution_count": 43,
      "outputs": [
        {
          "output_type": "execute_result",
          "data": {
            "text/plain": [
              "      Y1     Y2  X1_0.64  X1_0.66  X1_0.69  X1_0.71  X1_0.74  X1_0.76  X1_0.79  X1_0.82  X1_0.86  X1_0.9  X1_0.98  X2_563.5  X2_588.0  X2_612.5  X2_637.0  X2_661.5  X2_686.0  X2_710.5  X2_735.0  X2_759.5  X2_784.0  X2_808.5  X3_269.5  X3_294.0  X3_318.5  X3_343.0  X3_367.5  X3_416.5  X4_122.5  X4_147.0  X4_220.5  X5_7.0  X6_3  X6_4  X6_5  X7_0.1  X7_0.25  X7_0.4  X8_1  X8_2  X8_3  X8_4  X8_5\n",
              "0 15.550 21.330        0        0        0        0        0        0        0        0        0       0        1         0         0         0         0         0         0         0         0         0         0         0         0         1         0         0         0         0         0         0         0       1     0     0     0       0        0       0     0     0     0     0     0\n",
              "1 15.550 21.330        0        0        0        0        0        0        0        0        0       0        1         0         0         0         0         0         0         0         0         0         0         0         0         1         0         0         0         0         0         0         0       1     1     0     0       0        0       0     0     0     0     0     0\n",
              "2 15.550 21.330        0        0        0        0        0        0        0        0        0       0        1         0         0         0         0         0         0         0         0         0         0         0         0         1         0         0         0         0         0         0         0       1     0     1     0       0        0       0     0     0     0     0     0\n",
              "3 15.550 21.330        0        0        0        0        0        0        0        0        0       0        1         0         0         0         0         0         0         0         0         0         0         0         0         1         0         0         0         0         0         0         0       1     0     0     1       0        0       0     0     0     0     0     0\n",
              "4 20.840 28.280        0        0        0        0        0        0        0        0        0       1        0         1         0         0         0         0         0         0         0         0         0         0         0         0         1         0         0         0         1         0         0       1     0     0     0       0        0       0     0     0     0     0     0"
            ],
            "text/html": [
              "\n",
              "  <div id=\"df-00f28c12-577a-4658-ba3e-743961c5503a\">\n",
              "    <div class=\"colab-df-container\">\n",
              "      <div>\n",
              "<style scoped>\n",
              "    .dataframe tbody tr th:only-of-type {\n",
              "        vertical-align: middle;\n",
              "    }\n",
              "\n",
              "    .dataframe tbody tr th {\n",
              "        vertical-align: top;\n",
              "    }\n",
              "\n",
              "    .dataframe thead th {\n",
              "        text-align: right;\n",
              "    }\n",
              "</style>\n",
              "<table border=\"1\" class=\"dataframe\">\n",
              "  <thead>\n",
              "    <tr style=\"text-align: right;\">\n",
              "      <th></th>\n",
              "      <th>Y1</th>\n",
              "      <th>Y2</th>\n",
              "      <th>X1_0.64</th>\n",
              "      <th>X1_0.66</th>\n",
              "      <th>X1_0.69</th>\n",
              "      <th>X1_0.71</th>\n",
              "      <th>X1_0.74</th>\n",
              "      <th>X1_0.76</th>\n",
              "      <th>X1_0.79</th>\n",
              "      <th>X1_0.82</th>\n",
              "      <th>X1_0.86</th>\n",
              "      <th>X1_0.9</th>\n",
              "      <th>X1_0.98</th>\n",
              "      <th>X2_563.5</th>\n",
              "      <th>X2_588.0</th>\n",
              "      <th>X2_612.5</th>\n",
              "      <th>X2_637.0</th>\n",
              "      <th>X2_661.5</th>\n",
              "      <th>X2_686.0</th>\n",
              "      <th>X2_710.5</th>\n",
              "      <th>X2_735.0</th>\n",
              "      <th>X2_759.5</th>\n",
              "      <th>X2_784.0</th>\n",
              "      <th>X2_808.5</th>\n",
              "      <th>X3_269.5</th>\n",
              "      <th>X3_294.0</th>\n",
              "      <th>X3_318.5</th>\n",
              "      <th>X3_343.0</th>\n",
              "      <th>X3_367.5</th>\n",
              "      <th>X3_416.5</th>\n",
              "      <th>X4_122.5</th>\n",
              "      <th>X4_147.0</th>\n",
              "      <th>X4_220.5</th>\n",
              "      <th>X5_7.0</th>\n",
              "      <th>X6_3</th>\n",
              "      <th>X6_4</th>\n",
              "      <th>X6_5</th>\n",
              "      <th>X7_0.1</th>\n",
              "      <th>X7_0.25</th>\n",
              "      <th>X7_0.4</th>\n",
              "      <th>X8_1</th>\n",
              "      <th>X8_2</th>\n",
              "      <th>X8_3</th>\n",
              "      <th>X8_4</th>\n",
              "      <th>X8_5</th>\n",
              "    </tr>\n",
              "  </thead>\n",
              "  <tbody>\n",
              "    <tr>\n",
              "      <th>0</th>\n",
              "      <td>15.550</td>\n",
              "      <td>21.330</td>\n",
              "      <td>0</td>\n",
              "      <td>0</td>\n",
              "      <td>0</td>\n",
              "      <td>0</td>\n",
              "      <td>0</td>\n",
              "      <td>0</td>\n",
              "      <td>0</td>\n",
              "      <td>0</td>\n",
              "      <td>0</td>\n",
              "      <td>0</td>\n",
              "      <td>1</td>\n",
              "      <td>0</td>\n",
              "      <td>0</td>\n",
              "      <td>0</td>\n",
              "      <td>0</td>\n",
              "      <td>0</td>\n",
              "      <td>0</td>\n",
              "      <td>0</td>\n",
              "      <td>0</td>\n",
              "      <td>0</td>\n",
              "      <td>0</td>\n",
              "      <td>0</td>\n",
              "      <td>0</td>\n",
              "      <td>1</td>\n",
              "      <td>0</td>\n",
              "      <td>0</td>\n",
              "      <td>0</td>\n",
              "      <td>0</td>\n",
              "      <td>0</td>\n",
              "      <td>0</td>\n",
              "      <td>0</td>\n",
              "      <td>1</td>\n",
              "      <td>0</td>\n",
              "      <td>0</td>\n",
              "      <td>0</td>\n",
              "      <td>0</td>\n",
              "      <td>0</td>\n",
              "      <td>0</td>\n",
              "      <td>0</td>\n",
              "      <td>0</td>\n",
              "      <td>0</td>\n",
              "      <td>0</td>\n",
              "      <td>0</td>\n",
              "    </tr>\n",
              "    <tr>\n",
              "      <th>1</th>\n",
              "      <td>15.550</td>\n",
              "      <td>21.330</td>\n",
              "      <td>0</td>\n",
              "      <td>0</td>\n",
              "      <td>0</td>\n",
              "      <td>0</td>\n",
              "      <td>0</td>\n",
              "      <td>0</td>\n",
              "      <td>0</td>\n",
              "      <td>0</td>\n",
              "      <td>0</td>\n",
              "      <td>0</td>\n",
              "      <td>1</td>\n",
              "      <td>0</td>\n",
              "      <td>0</td>\n",
              "      <td>0</td>\n",
              "      <td>0</td>\n",
              "      <td>0</td>\n",
              "      <td>0</td>\n",
              "      <td>0</td>\n",
              "      <td>0</td>\n",
              "      <td>0</td>\n",
              "      <td>0</td>\n",
              "      <td>0</td>\n",
              "      <td>0</td>\n",
              "      <td>1</td>\n",
              "      <td>0</td>\n",
              "      <td>0</td>\n",
              "      <td>0</td>\n",
              "      <td>0</td>\n",
              "      <td>0</td>\n",
              "      <td>0</td>\n",
              "      <td>0</td>\n",
              "      <td>1</td>\n",
              "      <td>1</td>\n",
              "      <td>0</td>\n",
              "      <td>0</td>\n",
              "      <td>0</td>\n",
              "      <td>0</td>\n",
              "      <td>0</td>\n",
              "      <td>0</td>\n",
              "      <td>0</td>\n",
              "      <td>0</td>\n",
              "      <td>0</td>\n",
              "      <td>0</td>\n",
              "    </tr>\n",
              "    <tr>\n",
              "      <th>2</th>\n",
              "      <td>15.550</td>\n",
              "      <td>21.330</td>\n",
              "      <td>0</td>\n",
              "      <td>0</td>\n",
              "      <td>0</td>\n",
              "      <td>0</td>\n",
              "      <td>0</td>\n",
              "      <td>0</td>\n",
              "      <td>0</td>\n",
              "      <td>0</td>\n",
              "      <td>0</td>\n",
              "      <td>0</td>\n",
              "      <td>1</td>\n",
              "      <td>0</td>\n",
              "      <td>0</td>\n",
              "      <td>0</td>\n",
              "      <td>0</td>\n",
              "      <td>0</td>\n",
              "      <td>0</td>\n",
              "      <td>0</td>\n",
              "      <td>0</td>\n",
              "      <td>0</td>\n",
              "      <td>0</td>\n",
              "      <td>0</td>\n",
              "      <td>0</td>\n",
              "      <td>1</td>\n",
              "      <td>0</td>\n",
              "      <td>0</td>\n",
              "      <td>0</td>\n",
              "      <td>0</td>\n",
              "      <td>0</td>\n",
              "      <td>0</td>\n",
              "      <td>0</td>\n",
              "      <td>1</td>\n",
              "      <td>0</td>\n",
              "      <td>1</td>\n",
              "      <td>0</td>\n",
              "      <td>0</td>\n",
              "      <td>0</td>\n",
              "      <td>0</td>\n",
              "      <td>0</td>\n",
              "      <td>0</td>\n",
              "      <td>0</td>\n",
              "      <td>0</td>\n",
              "      <td>0</td>\n",
              "    </tr>\n",
              "    <tr>\n",
              "      <th>3</th>\n",
              "      <td>15.550</td>\n",
              "      <td>21.330</td>\n",
              "      <td>0</td>\n",
              "      <td>0</td>\n",
              "      <td>0</td>\n",
              "      <td>0</td>\n",
              "      <td>0</td>\n",
              "      <td>0</td>\n",
              "      <td>0</td>\n",
              "      <td>0</td>\n",
              "      <td>0</td>\n",
              "      <td>0</td>\n",
              "      <td>1</td>\n",
              "      <td>0</td>\n",
              "      <td>0</td>\n",
              "      <td>0</td>\n",
              "      <td>0</td>\n",
              "      <td>0</td>\n",
              "      <td>0</td>\n",
              "      <td>0</td>\n",
              "      <td>0</td>\n",
              "      <td>0</td>\n",
              "      <td>0</td>\n",
              "      <td>0</td>\n",
              "      <td>0</td>\n",
              "      <td>1</td>\n",
              "      <td>0</td>\n",
              "      <td>0</td>\n",
              "      <td>0</td>\n",
              "      <td>0</td>\n",
              "      <td>0</td>\n",
              "      <td>0</td>\n",
              "      <td>0</td>\n",
              "      <td>1</td>\n",
              "      <td>0</td>\n",
              "      <td>0</td>\n",
              "      <td>1</td>\n",
              "      <td>0</td>\n",
              "      <td>0</td>\n",
              "      <td>0</td>\n",
              "      <td>0</td>\n",
              "      <td>0</td>\n",
              "      <td>0</td>\n",
              "      <td>0</td>\n",
              "      <td>0</td>\n",
              "    </tr>\n",
              "    <tr>\n",
              "      <th>4</th>\n",
              "      <td>20.840</td>\n",
              "      <td>28.280</td>\n",
              "      <td>0</td>\n",
              "      <td>0</td>\n",
              "      <td>0</td>\n",
              "      <td>0</td>\n",
              "      <td>0</td>\n",
              "      <td>0</td>\n",
              "      <td>0</td>\n",
              "      <td>0</td>\n",
              "      <td>0</td>\n",
              "      <td>1</td>\n",
              "      <td>0</td>\n",
              "      <td>1</td>\n",
              "      <td>0</td>\n",
              "      <td>0</td>\n",
              "      <td>0</td>\n",
              "      <td>0</td>\n",
              "      <td>0</td>\n",
              "      <td>0</td>\n",
              "      <td>0</td>\n",
              "      <td>0</td>\n",
              "      <td>0</td>\n",
              "      <td>0</td>\n",
              "      <td>0</td>\n",
              "      <td>0</td>\n",
              "      <td>1</td>\n",
              "      <td>0</td>\n",
              "      <td>0</td>\n",
              "      <td>0</td>\n",
              "      <td>1</td>\n",
              "      <td>0</td>\n",
              "      <td>0</td>\n",
              "      <td>1</td>\n",
              "      <td>0</td>\n",
              "      <td>0</td>\n",
              "      <td>0</td>\n",
              "      <td>0</td>\n",
              "      <td>0</td>\n",
              "      <td>0</td>\n",
              "      <td>0</td>\n",
              "      <td>0</td>\n",
              "      <td>0</td>\n",
              "      <td>0</td>\n",
              "      <td>0</td>\n",
              "    </tr>\n",
              "  </tbody>\n",
              "</table>\n",
              "</div>\n",
              "      <button class=\"colab-df-convert\" onclick=\"convertToInteractive('df-00f28c12-577a-4658-ba3e-743961c5503a')\"\n",
              "              title=\"Convert this dataframe to an interactive table.\"\n",
              "              style=\"display:none;\">\n",
              "        \n",
              "  <svg xmlns=\"http://www.w3.org/2000/svg\" height=\"24px\"viewBox=\"0 0 24 24\"\n",
              "       width=\"24px\">\n",
              "    <path d=\"M0 0h24v24H0V0z\" fill=\"none\"/>\n",
              "    <path d=\"M18.56 5.44l.94 2.06.94-2.06 2.06-.94-2.06-.94-.94-2.06-.94 2.06-2.06.94zm-11 1L8.5 8.5l.94-2.06 2.06-.94-2.06-.94L8.5 2.5l-.94 2.06-2.06.94zm10 10l.94 2.06.94-2.06 2.06-.94-2.06-.94-.94-2.06-.94 2.06-2.06.94z\"/><path d=\"M17.41 7.96l-1.37-1.37c-.4-.4-.92-.59-1.43-.59-.52 0-1.04.2-1.43.59L10.3 9.45l-7.72 7.72c-.78.78-.78 2.05 0 2.83L4 21.41c.39.39.9.59 1.41.59.51 0 1.02-.2 1.41-.59l7.78-7.78 2.81-2.81c.8-.78.8-2.07 0-2.86zM5.41 20L4 18.59l7.72-7.72 1.47 1.35L5.41 20z\"/>\n",
              "  </svg>\n",
              "      </button>\n",
              "      \n",
              "  <style>\n",
              "    .colab-df-container {\n",
              "      display:flex;\n",
              "      flex-wrap:wrap;\n",
              "      gap: 12px;\n",
              "    }\n",
              "\n",
              "    .colab-df-convert {\n",
              "      background-color: #E8F0FE;\n",
              "      border: none;\n",
              "      border-radius: 50%;\n",
              "      cursor: pointer;\n",
              "      display: none;\n",
              "      fill: #1967D2;\n",
              "      height: 32px;\n",
              "      padding: 0 0 0 0;\n",
              "      width: 32px;\n",
              "    }\n",
              "\n",
              "    .colab-df-convert:hover {\n",
              "      background-color: #E2EBFA;\n",
              "      box-shadow: 0px 1px 2px rgba(60, 64, 67, 0.3), 0px 1px 3px 1px rgba(60, 64, 67, 0.15);\n",
              "      fill: #174EA6;\n",
              "    }\n",
              "\n",
              "    [theme=dark] .colab-df-convert {\n",
              "      background-color: #3B4455;\n",
              "      fill: #D2E3FC;\n",
              "    }\n",
              "\n",
              "    [theme=dark] .colab-df-convert:hover {\n",
              "      background-color: #434B5C;\n",
              "      box-shadow: 0px 1px 3px 1px rgba(0, 0, 0, 0.15);\n",
              "      filter: drop-shadow(0px 1px 2px rgba(0, 0, 0, 0.3));\n",
              "      fill: #FFFFFF;\n",
              "    }\n",
              "  </style>\n",
              "\n",
              "      <script>\n",
              "        const buttonEl =\n",
              "          document.querySelector('#df-00f28c12-577a-4658-ba3e-743961c5503a button.colab-df-convert');\n",
              "        buttonEl.style.display =\n",
              "          google.colab.kernel.accessAllowed ? 'block' : 'none';\n",
              "\n",
              "        async function convertToInteractive(key) {\n",
              "          const element = document.querySelector('#df-00f28c12-577a-4658-ba3e-743961c5503a');\n",
              "          const dataTable =\n",
              "            await google.colab.kernel.invokeFunction('convertToInteractive',\n",
              "                                                     [key], {});\n",
              "          if (!dataTable) return;\n",
              "\n",
              "          const docLinkHtml = 'Like what you see? Visit the ' +\n",
              "            '<a target=\"_blank\" href=https://colab.research.google.com/notebooks/data_table.ipynb>data table notebook</a>'\n",
              "            + ' to learn more about interactive tables.';\n",
              "          element.innerHTML = '';\n",
              "          dataTable['output_type'] = 'display_data';\n",
              "          await google.colab.output.renderOutput(dataTable, element);\n",
              "          const docLink = document.createElement('div');\n",
              "          docLink.innerHTML = docLinkHtml;\n",
              "          element.appendChild(docLink);\n",
              "        }\n",
              "      </script>\n",
              "    </div>\n",
              "  </div>\n",
              "  "
            ]
          },
          "metadata": {},
          "execution_count": 43
        }
      ]
    },
    {
      "cell_type": "markdown",
      "source": [
        "# Create a Base Model"
      ],
      "metadata": {
        "id": "2uiIJXkNISJQ"
      }
    },
    {
      "cell_type": "code",
      "source": [
        "\n",
        "def create_base_model(dataframe, target, plot=False, save_results=False):\n",
        "  names = []\n",
        "  train_rmse_results = []\n",
        "  test_rmse_results = []\n",
        "  train_r2_scores = []\n",
        "  test_r2_scores = []\n",
        "  X = dataframe.drop(target, axis=1)\n",
        "  y = dataframe[target]\n",
        "  X_train, X_test, y_train, y_test = train_test_split(X, y, test_size=0.20, random_state=17)\n",
        "  models = [('LR', LinearRegression()),\n",
        "            (\"Ridge\", Ridge()),\n",
        "            (\"Lasso\", Lasso()),\n",
        "            (\"ElasticNet\", ElasticNet()),\n",
        "            ('KNN', KNeighborsRegressor()),\n",
        "            ('CART', DecisionTreeRegressor()),\n",
        "            ('RF', RandomForestRegressor()),\n",
        "            (\"XGBoost\", XGBRegressor(objective='reg:squarederror'))]\n",
        "\n",
        "  print(\"###################### Mean and Std(Target Variable) ######################\")\n",
        "  print(\"Mean: \" , dataframe[target].mean())\n",
        "  print(\"\\n\")\n",
        "  print(\"Std: \", dataframe[target].std())\n",
        "  print(\"###################### Model Results ######################\")\n",
        "\n",
        "  for name, regressor in models:\n",
        "    regressor.fit(X_train, y_train)\n",
        "    y_train_pred = regressor.predict(X_train)\n",
        "    y_test_pred = regressor.predict(X_test)\n",
        "    # RMSE\n",
        "    train_rmse_result = np.sqrt(mean_squared_error(y_train, y_train_pred))\n",
        "    test_rmse_result = np.sqrt(mean_squared_error(y_test, y_test_pred))\n",
        "    train_rmse_results.append(train_rmse_result)\n",
        "    test_rmse_results.append(test_rmse_result)\n",
        "    # score\n",
        "    train_r2_score = regressor.score(X_train, y_train)\n",
        "    test_r2_score = regressor.score(X_test, y_test)\n",
        "    train_r2_scores.append(train_r2_score)\n",
        "    test_r2_scores.append(test_r2_score)\n",
        "    # Model names\n",
        "    names.append(name)\n",
        "  \n",
        "  model_results = pd.DataFrame({'Model_Names': names,\n",
        "                                'RMSE_Train': train_rmse_results,\n",
        "                                'RMSE_Test': test_rmse_results,\n",
        "                                'R2_score_Train': train_r2_scores,\n",
        "                                'R2_score_Test': test_r2_scores\n",
        "                                }).set_index(\"Model_Names\")\n",
        "  model_results=model_results.sort_values(by=\"RMSE_Test\", ascending=True)\n",
        "  print(model_results)\n",
        "\n",
        "  if plot:\n",
        "    plt.figure(figsize=(15, 12))\n",
        "    sns.barplot(x='RMSE_Test', y=model_results.index, data=model_results, color=\"r\")\n",
        "    plt.xlabel('RMSE Values')\n",
        "    plt.ylabel('Model Names')\n",
        "    plt.title('RMSE_Test for All Models')\n",
        "    plt.show()\n",
        "  \n",
        "  if save_results:\n",
        "    model_results.to_csv(\"model_results.csv\")\n",
        "  \n",
        "  return model_results"
      ],
      "metadata": {
        "id": "8iZpxkpxIMPU"
      },
      "execution_count": 163,
      "outputs": []
    },
    {
      "cell_type": "code",
      "source": [
        "model_results = create_base_model(df, target=[\"Y1\",\"Y2\"], plot=True, save_results=True)"
      ],
      "metadata": {
        "colab": {
          "base_uri": "https://localhost:8080/",
          "height": 1000
        },
        "id": "zfqKGFvSIt44",
        "outputId": "3a53aa3d-2f30-44a4-8bef-3283798fc3a6"
      },
      "execution_count": 164,
      "outputs": [
        {
          "output_type": "stream",
          "name": "stdout",
          "text": [
            "###################### Mean and Std(Target Variable) ######################\n",
            "Mean:  Y1   22.307\n",
            "Y2   24.588\n",
            "dtype: float64\n",
            "\n",
            "\n",
            "Std:  Y1   10.090\n",
            "Y2    9.513\n",
            "dtype: float64\n",
            "###################### Model Results ######################\n",
            "             RMSE_Train  RMSE_Test  R2_score_Train  R2_score_Test\n",
            "Model_Names                                                      \n",
            "XGBoost           0.071      0.725           1.000          0.994\n",
            "Ridge             1.422      1.358           0.979          0.979\n",
            "LR                1.434      1.378           0.978          0.979\n",
            "RF                0.557      1.605           0.997          0.970\n",
            "CART              0.000      1.911           1.000          0.958\n",
            "KNN               1.817      1.963           0.966          0.958\n",
            "Lasso             4.958      4.380           0.747          0.790\n",
            "ElasticNet        6.047      5.672           0.623          0.648\n"
          ]
        },
        {
          "output_type": "display_data",
          "data": {
            "text/plain": [
              "<Figure size 1080x864 with 1 Axes>"
            ],
            "image/png": "[encoded data removed]"
          },
          "metadata": {}
        }
      ]
    },
    {
      "cell_type": "markdown",
      "source": [
        "# Create Model Tuned"
      ],
      "metadata": {
        "id": "1WE3-g30xw2C"
      }
    },
    {
      "cell_type": "code",
      "source": [
        "def create_model_tuned(dataframe, target, plot=True, save_results=True):\n",
        "  names = []\n",
        "  train_rmse_results = []\n",
        "  test_rmse_results = []\n",
        "  train_r2_scores = []\n",
        "  test_r2_scores = []\n",
        "  best_params = []\n",
        "  X = dataframe.drop(target, axis=1)\n",
        "  y = dataframe[target]\n",
        "  X_train, X_test, y_train, y_test = train_test_split(X, y, test_size=0.20, random_state=17)\n",
        "\n",
        "  ridge_params = {\"alpha\": 10**np.linspace(10,-2,100)*0.5}\n",
        "\n",
        "  lasso_params = {\"alpha\": 10**np.linspace(10,-2,100)*0.5}\n",
        "\n",
        "  enet_params = {\"alpha\": 10**np.linspace(10,-2,100)*0.5}\n",
        "\n",
        "  knn_params = {\"n_neighbors\": np.arange(1,50,1)}\n",
        "\n",
        "  cart_params = {\"min_samples_split\": range(2,100),\n",
        "                  \"max_leaf_nodes\": range(2,10)}\n",
        "\n",
        "  xgboost_params = {\"colsample_bytree\": [0.4, 0.5 ,0.6],\n",
        "                      \"n_estimators\": [200, 500, 1000],\n",
        "                      \"max_depth\": [3,5,8],\n",
        "                      \"learning_rate\": [0.1, 0.01]}\n",
        "\n",
        "  rf_params = {\"max_depth\": [5, 8, 15, None],\n",
        "              \"max_features\": [5, 7, \"auto\"],\n",
        "              \"min_samples_split\": [8, 15, 20],\n",
        "              \"n_estimators\": [200, 500]}\n",
        "\n",
        "  regressors = [(\"Ridge\", Ridge(), ridge_params),\n",
        "              (\"Lasso\", Lasso(), lasso_params),\n",
        "              (\"ENet\", ElasticNet(), enet_params),\n",
        "              (\"KNN\", KNeighborsRegressor(), knn_params),\n",
        "              (\"CART\", DecisionTreeRegressor(), cart_params),\n",
        "              (\"XGBoost\", XGBRegressor(objective=\"reg:squarederror\"), xgboost_params),\n",
        "              (\"RF\", RandomForestRegressor(), rf_params)]\n",
        "\n",
        "  for name, regressor, params in regressors:\n",
        "    print(f\"#################### {name} ####################\")\n",
        "\n",
        "    gs_best = GridSearchCV(regressor, params, cv=3, n_jobs=-1, verbose=False).fit(X_train, y_train)\n",
        "\n",
        "    final_model = regressor.set_params(**gs_best.best_params_).fit(X_train, y_train)\n",
        "    train_rmse_result = np.mean(np.sqrt(-cross_val_score(final_model, X_train, y_train, cv=10, scoring=\"neg_mean_squared_error\")))\n",
        "    test_rmse_result = np.mean(np.sqrt(-cross_val_score(final_model, X_test, y_test, cv=10, scoring=\"neg_mean_squared_error\")))\n",
        "    train_rmse_results.append(train_rmse_result)\n",
        "    test_rmse_results.append(test_rmse_result)\n",
        "    train_r2_score = final_model.score(X_train, y_train)\n",
        "    test_r2_score = final_model.score(X_test, y_test)\n",
        "    train_r2_scores.append(train_r2_score)\n",
        "    test_r2_scores.append(test_r2_score)\n",
        "    print(f\"RMSE_Train: {round(train_rmse_result, 4)} , RMSE_Test: {round(test_rmse_result, 4)} , R2_Train: {round(train_r2_score, 3)} , R2_Test: {round(test_r2_score, 3)} (Tuned Model) ({name}) \")\n",
        "\n",
        "    print(f\"{name} best params: {gs_best.best_params_}\", end=\"\\n\\n\")\n",
        "    best_params.append(gs_best.best_params_)\n",
        "    names.append(name)\n",
        "  \n",
        "  model_tuned_results = pd.DataFrame({'Model_Names': names,\n",
        "                                'RMSE_Train': train_rmse_results,\n",
        "                                'RMSE_Test': test_rmse_results,\n",
        "                                'R2_score_Train': train_r2_scores,\n",
        "                                'R2_score_Test': test_r2_scores,\n",
        "                                \"best_params\": best_params\n",
        "                                }).set_index(\"Model_Names\")\n",
        "  model_tuned_results=model_tuned_results.sort_values(by=\"RMSE_Test\", ascending=True)\n",
        "  print(model_tuned_results)\n",
        "\n",
        "  if plot:\n",
        "    plt.figure(figsize=(15, 12))\n",
        "    sns.barplot(x='RMSE_Test', y=model_tuned_results.index, data=model_tuned_results, color=\"r\")\n",
        "    plt.xlabel('RMSE Values')\n",
        "    plt.ylabel('Model Names')\n",
        "    plt.title('RMSE_Test for All Models')\n",
        "    plt.show()\n",
        "  \n",
        "  if save_results:\n",
        "    model_tuned_results.to_csv(\"model_tuned_results.csv\")\n",
        "  \n",
        "  return model_tuned_results"
      ],
      "metadata": {
        "id": "FmwYUzTEwnpv"
      },
      "execution_count": 165,
      "outputs": []
    },
    {
      "cell_type": "code",
      "source": [
        "model_tuned_results = create_model_tuned(df, [\"Y1\",\"Y2\"], plot=True, save_results=True)"
      ],
      "metadata": {
        "colab": {
          "base_uri": "https://localhost:8080/",
          "height": 1000
        },
        "id": "9bXKtkiq04kD",
        "outputId": "c7c11593-ab17-46f5-f985-fb578b7ebd1c"
      },
      "execution_count": 166,
      "outputs": [
        {
          "output_type": "stream",
          "name": "stdout",
          "text": [
            "#################### Ridge ####################\n",
            "RMSE_Train: 1.485 , RMSE_Test: 1.4755 , R2_Train: 0.979 , R2_Test: 0.979 (Tuned Model) (Ridge) \n",
            "Ridge best params: {'alpha': 0.005}\n",
            "\n",
            "#################### Lasso ####################\n",
            "RMSE_Train: 1.4844 , RMSE_Test: 1.4796 , R2_Train: 0.979 , R2_Test: 0.979 (Tuned Model) (Lasso) \n",
            "Lasso best params: {'alpha': 0.005}\n",
            "\n",
            "#################### ENet ####################\n",
            "RMSE_Train: 1.4921 , RMSE_Test: 1.4964 , R2_Train: 0.978 , R2_Test: 0.979 (Tuned Model) (ENet) \n",
            "ENet best params: {'alpha': 0.005}\n",
            "\n",
            "#################### KNN ####################\n",
            "RMSE_Train: 2.3253 , RMSE_Test: 2.0457 , R2_Train: 0.97 , R2_Test: 0.955 (Tuned Model) (KNN) \n",
            "KNN best params: {'n_neighbors': 4}\n",
            "\n",
            "#################### CART ####################\n",
            "RMSE_Train: 2.4189 , RMSE_Test: 2.4107 , R2_Train: 0.942 , R2_Test: 0.954 (Tuned Model) (CART) \n",
            "CART best params: {'max_leaf_nodes': 9, 'min_samples_split': 54}\n",
            "\n",
            "#################### XGBoost ####################\n",
            "RMSE_Train: 0.8176 , RMSE_Test: 1.6271 , R2_Train: 1.0 , R2_Test: 0.994 (Tuned Model) (XGBoost) \n",
            "XGBoost best params: {'colsample_bytree': 0.6, 'learning_rate': 0.1, 'max_depth': 5, 'n_estimators': 1000}\n",
            "\n",
            "#################### RF ####################\n",
            "RMSE_Train: 1.3646 , RMSE_Test: 1.6785 , R2_Train: 0.989 , R2_Test: 0.975 (Tuned Model) (RF) \n",
            "RF best params: {'max_depth': None, 'max_features': 'auto', 'min_samples_split': 8, 'n_estimators': 500}\n",
            "\n",
            "             RMSE_Train  RMSE_Test  R2_score_Train  R2_score_Test                                        best_params\n",
            "Model_Names                                                                                                         \n",
            "Ridge             1.485      1.475           0.979          0.979                                   {'alpha': 0.005}\n",
            "Lasso             1.484      1.480           0.979          0.979                                   {'alpha': 0.005}\n",
            "ENet              1.492      1.496           0.978          0.979                                   {'alpha': 0.005}\n",
            "XGBoost           0.818      1.627           1.000          0.994  {'colsample_bytree': 0.6, 'learning_rate': 0.1...\n",
            "RF                1.365      1.679           0.989          0.975  {'max_depth': None, 'max_features': 'auto', 'm...\n",
            "KNN               2.325      2.046           0.970          0.955                                 {'n_neighbors': 4}\n",
            "CART              2.419      2.411           0.942          0.954     {'max_leaf_nodes': 9, 'min_samples_split': 54}\n"
          ]
        },
        {
          "output_type": "display_data",
          "data": {
            "text/plain": [
              "<Figure size 1080x864 with 1 Axes>"
            ],
            "image/png": "[encoded data removed]"
          },
          "metadata": {}
        }
      ]
    }
  ]
}